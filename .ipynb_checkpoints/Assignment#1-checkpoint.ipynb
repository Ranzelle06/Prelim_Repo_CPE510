{
 "cells": [
  {
   "cell_type": "code",
   "execution_count": 1,
   "metadata": {},
   "outputs": [],
   "source": [
    "import numpy as np\n",
    "import matplotlib.pyplot as plt\n",
    "import matplotlib.image as mpimg\n",
    "import argparse"
   ]
  },
  {
   "cell_type": "code",
   "execution_count": null,
   "metadata": {},
   "outputs": [],
   "source": [
    "parser = ArgumentParser()\n",
    "parser.add_argument(\"-Image\", help = \"Local File Directory of image to augment\")\n",
    "parser.add_argument(\"-H\",type=\"integer\", help = \"The Height of the Image\")\n",
    "parser.add_argument(\"-W\",type=\"integer\", help = \"The Width of the Image\")\n",
    "parser.add_argument(\"-Gray\" ,type=\"logical\",help = \"To grayscale an image\")\n",
    "parser.add_argument(\"-angle\",type=\"integer\", help = \"To change the angle of the image\")\n",
    "\n",
    "parser.print_help()    \n",
    "args = parser.parse_args()  \n",
    "\n",
    "\n",
    "print (args.Image)\n",
    "print (args.H)\n",
    "print (args.W)\n",
    "print (args.Gray)\n",
    "print (args.angle)\n",
    "\n",
    "augmented = function(Image,H,W,Gray,angle){\n",
    "  if(Gray==TRUE){\n",
    "    img = load.image(Image)\n",
    "    gray = grayscale(img)\n",
    "    gray1 = save.image(im=gray,file=paste0(\"image.R/GRAY_IMAGE.jpg\"))\n",
    "  } \n",
    "  if(H&&W > 1){\n",
    "    img = load.image(Image)\n",
    "    imgrsze = resize(img, size_x = H, size_y = W)\n",
    "    save.image(im = imgrsze,file=paste0(\"image.R/RESIZED_IMAGE.jpg\"))\n",
    "  }\n",
    "  if(angle>1){\n",
    "    img = load.image(Image)\n",
    "    invimg = imrotate(im=img,angle)\n",
    "    invimg1 = save.image(im=invimg,file=paste0(\"image.R/INVERTED_IMAGE.jpg\"))\n",
    "  }\n",
    "}\n",
    "\n",
    "\n",
    "print(augmented(args.Image,args.H,args.W,args.Gray,args.angle))"
   ]
  },
  {
   "cell_type": "code",
   "execution_count": null,
   "metadata": {},
   "outputs": [],
   "source": []
  }
 ],
 "metadata": {
  "kernelspec": {
   "display_name": "Python 3",
   "language": "python",
   "name": "python3"
  },
  "language_info": {
   "codemirror_mode": {
    "name": "ipython",
    "version": 3
   },
   "file_extension": ".py",
   "mimetype": "text/x-python",
   "name": "python",
   "nbconvert_exporter": "python",
   "pygments_lexer": "ipython3",
   "version": "3.7.0"
  }
 },
 "nbformat": 4,
 "nbformat_minor": 2
}
